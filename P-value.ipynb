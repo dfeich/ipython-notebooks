{
 "metadata": {
  "name": "",
  "signature": "sha256:75478b02a741ebaa231124a3eb86a3ff1fef9da8b6545b174bb1fb1642325f17"
 },
 "nbformat": 3,
 "nbformat_minor": 0,
 "worksheets": [
  {
   "cells": [
    {
     "cell_type": "code",
     "collapsed": false,
     "input": [
      "%matplotlib inline"
     ],
     "language": "python",
     "metadata": {},
     "outputs": [],
     "prompt_number": 14
    },
    {
     "cell_type": "code",
     "collapsed": false,
     "input": [
      "import numpy as np\n",
      "import matplotlib.pyplot as plt\n",
      "from math import factorial"
     ],
     "language": "python",
     "metadata": {},
     "outputs": [],
     "prompt_number": 1
    },
    {
     "cell_type": "markdown",
     "metadata": {},
     "source": [
      "P-Wert (\u00dcberschreitungswahrscheinlichkeit, Signifikanzwert), P-Value\n",
      "=======\n",
      "\n",
      "Aus Wikipedia:\n",
      "\n",
      "Der p-Wert ist eine Wahrscheinlichkeit und nimmt daher Werte zwischen Null und Eins an. Der Wert wird bestimmt durch die gezogene Stichprobe. Er deutet an, wie wahrscheinlich es ist, ein solches Stichprobenergebnis oder ein noch extremeres zu erhalten, wenn die Nullhypothese wahr ist. Ein h\u00e4ufiges Missverst\u00e4ndnis ist die Gleichsetzung dieser Aussage mit der falschen Behauptung, der p-Wert w\u00fcrde angeben, wie wahrscheinlich die Nullhypothese bei Erhalt dieses Stichprobenergebnisses ist. Mit dem p-Wert wird also angedeutet, wie extrem das Ergebnis ist: je kleiner der p-Wert, desto mehr spricht das Ergebnis gegen die Nullhypothese. In verschiedenen wissenschaftlichen Disziplinen haben sich festgesetzte Grenzen etabliert, wie 5 %, 1 % oder 0,1 %, die verwendet werden, um Entscheidungen zu treffen, ob die Nullhypothese abgelehnt werden kann. Wenn die Nullhypothese verworfen wird, wird das Resultat als statistisch signifikant bezeichnet. Signifikant bedeutet hierbei lediglich \u00fcberzuf\u00e4llig. Die Gr\u00f6\u00dfe des p-Werts gibt keine Aussage \u00fcber die Gr\u00f6\u00dfe des wahren Effekts."
     ]
    },
    {
     "cell_type": "markdown",
     "metadata": {},
     "source": [
      "Beispiel\n",
      "--------\n",
      "Wir nehmen an, dass wir eine gezinkte M\u00fcnze haben, die mit einer Wahrscheinlichkeit $p$ Kopf liefert. Wir werfen die M\u00fcnze N mal."
     ]
    },
    {
     "cell_type": "code",
     "collapsed": false,
     "input": [
      "p = 0.7\n",
      "N = 20"
     ],
     "language": "python",
     "metadata": {},
     "outputs": [],
     "prompt_number": 2
    },
    {
     "cell_type": "markdown",
     "metadata": {},
     "source": [
      "Funktion, die die Anzahl Kopf bei einer Messreihe von n W\u00fcrfen definiert. p ist die Wahrscheinlichkeit Kopf in einem Wurf zu werfen."
     ]
    },
    {
     "cell_type": "code",
     "collapsed": false,
     "input": [
      "def experiment(p,n):\n",
      "    return np.array(np.random.rand(n) + 0.5 +(p - 0.5)).astype(int).sum()"
     ],
     "language": "python",
     "metadata": {},
     "outputs": [],
     "prompt_number": 7
    },
    {
     "cell_type": "code",
     "collapsed": false,
     "input": [
      "experiment(p,N)"
     ],
     "language": "python",
     "metadata": {},
     "outputs": [
      {
       "metadata": {},
       "output_type": "pyout",
       "prompt_number": 9,
       "text": [
        "15"
       ]
      }
     ],
     "prompt_number": 9
    },
    {
     "cell_type": "markdown",
     "metadata": {},
     "source": [
      "Die Wahrscheinlichkeit Kopf k mal in einer Messreihe von N W\u00fcrfen zu werfen ist gegeben durch die Binomialverteilung\n",
      "\n",
      "$f(k;N,p) = p^k (1 - p)^{N - k} \\frac{N!}{k!(N - k)!}$\n",
      "\n",
      "Wir berechnen die Wahrscheinlichkeiten genau $k$ mal Kopf zu erhalten f\u00fcr den Fall mit unserer gezinkten M\u00fcnze und f\u00fcr den Fall einer perfekten, fairen M\u00fcnze "
     ]
    },
    {
     "cell_type": "code",
     "collapsed": false,
     "input": [
      "def f(k,N,p):\n",
      "    return p**k * (1 - p)**(N - k) * factorial(N)/factorial(k)/factorial(N-k)\n",
      "\n",
      "y_theor = np.zeros(N+1)\n",
      "y_fair = np.zeros(N+1)\n",
      "for k in range(0,N+1):\n",
      "    y_theor[k] = f(k,N,p)\n",
      "    y_fair[k] = f(k,N,0.5)"
     ],
     "language": "python",
     "metadata": {},
     "outputs": [],
     "prompt_number": 11
    },
    {
     "cell_type": "markdown",
     "metadata": {},
     "source": [
      "Graphik zu den Wahrscheinlichkeitsverteilungen\n",
      "----------------------------------------------\n",
      "\n",
      "Wir f\u00fchren eine grosse Anzahl Experimente durch (jedes besteht aus $N$ W\u00fcrfen und unserer M\u00fcnze charakterisiert durch $p$) und erstellen ein normiertes Histogramm von k gegen die H\u00e4ufigkeit. "
     ]
    },
    {
     "cell_type": "code",
     "collapsed": false,
     "input": [
      "y = np.zeros(N+1)\n",
      "n_exps = 1000\n",
      "for i in xrange(0,n_exps):\n",
      "    y[experiment(p,N)] += 1\n",
      "\n",
      "y = y / n_exps\n",
      "\n",
      "plt.figure(figsize=(10,7))\n",
      "plt.bar(range(0,N+1), y, align='center', label = 'experiments')\n",
      "plt.plot(range(0,N+1), y_theor, 'ro', label = 'p=%.2f' % p)\n",
      "plt.plot(range(0,N+1), y_fair, 'g:', label = 'p=0.5')\n",
      "plt.xlabel('k')\n",
      "plt.legend()"
     ],
     "language": "python",
     "metadata": {},
     "outputs": [
      {
       "metadata": {},
       "output_type": "pyout",
       "prompt_number": 15,
       "text": [
        "<matplotlib.legend.Legend at 0x7fe063d40150>"
       ]
      },
      {
       "metadata": {},
       "output_type": "display_data",
       "png": "[encoded data removed]",
       "text": [
        "<matplotlib.figure.Figure at 0x7fe063e50a90>"
       ]
      }
     ],
     "prompt_number": 15
    },
    {
     "cell_type": "markdown",
     "metadata": {},
     "source": [
      "Die Nullhypothese $H_0$ f\u00fcr unser Experiment ist, dass die M\u00fcnze nicht gezinkt ist, d.h. dass wir eine Abweichung einfach als statistische Schwankung erkl\u00e4ren k\u00f6nnen.\n",
      "\n",
      "Die Wahrscheinlichkeit, ein solches Ergebnis oder ein noch aussergew\u00f6hnlicheres bei Gleichverteilung (p=0.5) zu erhalten, entspricht der Summe der Wahrscheinlichkeiten, genauso vielmal oder mehr Kopf oder genauso vielmal oder mehr Zahl zu werfen. Dies ist f\u00fcr diesen Fall der P-Wert.\n",
      "\n",
      "$P = \\sum_{k=0}^{N - k_{exp}} f(k;N,p) + \\sum_{k=k_{exp}}^{N} f(k;N,p)$"
     ]
    },
    {
     "cell_type": "code",
     "collapsed": false,
     "input": [
      "def pval(kexp, N, p):\n",
      "    pv = 0\n",
      "    if kexp < N/2:\n",
      "        ke = N - kexp\n",
      "    else:\n",
      "        ke = kexp\n",
      "    for k in range(0,N-ke+1):\n",
      "        pv += f(k,N,p)\n",
      "    for k in range(ke,N+1):\n",
      "        pv += f(k,N,p)\n",
      "    return pv"
     ],
     "language": "python",
     "metadata": {},
     "outputs": [],
     "prompt_number": 16
    },
    {
     "cell_type": "markdown",
     "metadata": {},
     "source": [
      "Beispiel f\u00fcr P-Werte f\u00fcr 17 mal Kopf in 20 W\u00fcrfen unter der Annahme, dass Kopf und Zahl gleich wahrscheinlich sind (und als Vergleich, der Fall f\u00fcr 3 mal Kopf, der genauso aussergew\u00f6hnlich ist, und deshalb den gleichen P-Wert aufweist)."
     ]
    },
    {
     "cell_type": "code",
     "collapsed": false,
     "input": [
      "pval(3,20,0.5), pval(17,20,0.5)"
     ],
     "language": "python",
     "metadata": {},
     "outputs": [
      {
       "metadata": {},
       "output_type": "pyout",
       "prompt_number": 17,
       "text": [
        "(0.0025768280029296875, 0.0025768280029296875)"
       ]
      }
     ],
     "prompt_number": 17
    },
    {
     "cell_type": "markdown",
     "metadata": {},
     "source": [
      "p-Wert Tests\n",
      "------------\n",
      "Wir definieren ein Signifikanzniveau (thresh), f\u00fchren ein Experiment durch, und falls der p-Wert unterhalb des Niveaus liegt, haben wir Grund zum verwerfen der Nullhypothese."
     ]
    },
    {
     "cell_type": "code",
     "collapsed": false,
     "input": [
      "thresh = 0.05\n",
      "k_exp = experiment(p,N)\n",
      "print \"Anzahl Kopf in Messreihe: %d\" % k_exp\n",
      "pv = pval(k_exp,N,0.5)\n",
      "print \"P-Wert: %f\" % pv\n",
      "if pv < thresh:\n",
      "    print \"Nullhypothese abgelehnt\"\n",
      "else:\n",
      "    print \"Nullhypothese NICHT abgelehnt\""
     ],
     "language": "python",
     "metadata": {},
     "outputs": [
      {
       "output_type": "stream",
       "stream": "stdout",
       "text": [
        "Anzahl Kopf in Messreihe: 15\n",
        "P-Wert: 0.041389\n",
        "Nullhypothese abgelehnt\n"
       ]
      }
     ],
     "prompt_number": 24
    },
    {
     "cell_type": "code",
     "collapsed": false,
     "input": [
      "pvarr = [pval(x,N,0.5) for x in xrange(1,N)]"
     ],
     "language": "python",
     "metadata": {},
     "outputs": [],
     "prompt_number": 25
    },
    {
     "cell_type": "markdown",
     "metadata": {},
     "source": [
      "P-Werte f\u00fcr s\u00e4mtliche m\u00f6glichen Ausg\u00e4nge des Experiments bei Annahme unserer Nullhypothese\n",
      "--------------"
     ]
    },
    {
     "cell_type": "code",
     "collapsed": false,
     "input": [
      "plt.figure(figsize=(10,7))\n",
      "plt.plot(xrange(1,N), pvarr)\n",
      "plt.xlabel('k')\n",
      "plt.ylabel('P-Wert')\n"
     ],
     "language": "python",
     "metadata": {},
     "outputs": [
      {
       "metadata": {},
       "output_type": "pyout",
       "prompt_number": 28,
       "text": [
        "<matplotlib.text.Text at 0x7fe063c79710>"
       ]
      },
      {
       "metadata": {},
       "output_type": "display_data",
       "png": "[encoded data removed]",
       "text": [
        "<matplotlib.figure.Figure at 0x7fe063b63e10>"
       ]
      }
     ],
     "prompt_number": 28
    },
    {
     "cell_type": "code",
     "collapsed": false,
     "input": [],
     "language": "python",
     "metadata": {},
     "outputs": []
    }
   ],
   "metadata": {}
  }
 ]
}